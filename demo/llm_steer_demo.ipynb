{
  "cells": [
    {
      "cell_type": "markdown",
      "id": "887c56af-6187-4b6f-aaa6-0096dcc6de44",
      "metadata": {
        "id": "887c56af-6187-4b6f-aaa6-0096dcc6de44"
      },
      "source": [
        "# llm_steer demo\n",
        "\n",
        "- Github: `https://github.com/Mihaiii/llm_steer`\n",
        "- Pypi: `https://pypi.org/project/llm_steer`\n",
        "  \n",
        "Created by [Mihai](https://huggingface.co/Mihaiii)"
      ]
    },
    {
      "cell_type": "code",
      "execution_count": 6,
      "id": "5e8f84f1-cab0-498c-902c-75e6945c4a35",
      "metadata": {
        "colab": {
          "base_uri": "https://localhost:8080/",
          "height": 723
        },
        "id": "5e8f84f1-cab0-498c-902c-75e6945c4a35",
        "outputId": "0decec9e-a29c-49bd-cb9e-09353f589f47"
      },
      "outputs": [
        {
          "output_type": "stream",
          "name": "stdout",
          "text": [
            "Found existing installation: transformers 4.37.0\n",
            "Uninstalling transformers-4.37.0:\n",
            "  Successfully uninstalled transformers-4.37.0\n",
            "Collecting git+https://github.com/huggingface/transformers\n",
            "  Cloning https://github.com/huggingface/transformers to /tmp/pip-req-build-cc1sdhwz\n",
            "  Running command git clone --filter=blob:none --quiet https://github.com/huggingface/transformers /tmp/pip-req-build-cc1sdhwz\n",
            "  Resolved https://github.com/huggingface/transformers to commit c5c69096b385bb9782fcc01251f20956670b4497\n",
            "  Installing build dependencies ... \u001b[?25l\u001b[?25hdone\n",
            "  Getting requirements to build wheel ... \u001b[?25l\u001b[?25hdone\n",
            "  Preparing metadata (pyproject.toml) ... \u001b[?25l\u001b[?25hdone\n",
            "Requirement already satisfied: llm-steer in /usr/local/lib/python3.10/dist-packages (0.0.1)\n",
            "Requirement already satisfied: filelock in /usr/local/lib/python3.10/dist-packages (from transformers==4.38.0.dev0) (3.13.1)\n",
            "Requirement already satisfied: huggingface-hub<1.0,>=0.19.3 in /usr/local/lib/python3.10/dist-packages (from transformers==4.38.0.dev0) (0.20.3)\n",
            "Requirement already satisfied: numpy>=1.17 in /usr/local/lib/python3.10/dist-packages (from transformers==4.38.0.dev0) (1.26.3)\n",
            "Requirement already satisfied: packaging>=20.0 in /usr/local/lib/python3.10/dist-packages (from transformers==4.38.0.dev0) (23.2)\n",
            "Requirement already satisfied: pyyaml>=5.1 in /usr/local/lib/python3.10/dist-packages (from transformers==4.38.0.dev0) (6.0.1)\n",
            "Requirement already satisfied: regex!=2019.12.17 in /usr/local/lib/python3.10/dist-packages (from transformers==4.38.0.dev0) (2023.12.25)\n",
            "Requirement already satisfied: requests in /usr/local/lib/python3.10/dist-packages (from transformers==4.38.0.dev0) (2.31.0)\n",
            "Requirement already satisfied: tokenizers<0.19,>=0.14 in /usr/local/lib/python3.10/dist-packages (from transformers==4.38.0.dev0) (0.15.1)\n",
            "Requirement already satisfied: safetensors>=0.4.1 in /usr/local/lib/python3.10/dist-packages (from transformers==4.38.0.dev0) (0.4.2)\n",
            "Requirement already satisfied: tqdm>=4.27 in /usr/local/lib/python3.10/dist-packages (from transformers==4.38.0.dev0) (4.66.1)\n",
            "Requirement already satisfied: fsspec>=2023.5.0 in /usr/local/lib/python3.10/dist-packages (from huggingface-hub<1.0,>=0.19.3->transformers==4.38.0.dev0) (2023.12.2)\n",
            "Requirement already satisfied: typing-extensions>=3.7.4.3 in /usr/local/lib/python3.10/dist-packages (from huggingface-hub<1.0,>=0.19.3->transformers==4.38.0.dev0) (4.9.0)\n",
            "Requirement already satisfied: charset-normalizer<4,>=2 in /usr/local/lib/python3.10/dist-packages (from requests->transformers==4.38.0.dev0) (3.3.2)\n",
            "Requirement already satisfied: idna<4,>=2.5 in /usr/local/lib/python3.10/dist-packages (from requests->transformers==4.38.0.dev0) (3.6)\n",
            "Requirement already satisfied: urllib3<3,>=1.21.1 in /usr/local/lib/python3.10/dist-packages (from requests->transformers==4.38.0.dev0) (2.1.0)\n",
            "Requirement already satisfied: certifi>=2017.4.17 in /usr/local/lib/python3.10/dist-packages (from requests->transformers==4.38.0.dev0) (2023.11.17)\n",
            "Building wheels for collected packages: transformers\n",
            "  Building wheel for transformers (pyproject.toml) ... \u001b[?25l\u001b[?25hdone\n",
            "  Created wheel for transformers: filename=transformers-4.38.0.dev0-py3-none-any.whl size=8408303 sha256=2787a6e2a712221f7f0814c80fb4f2b97df353c7b87e1d78030974f87b57b370\n",
            "  Stored in directory: /tmp/pip-ephem-wheel-cache-if8xlikg/wheels/c0/14/d6/6c9a5582d2ac191ec0a483be151a4495fe1eb2a6706ca49f1b\n",
            "Successfully built transformers\n",
            "Installing collected packages: transformers\n",
            "Successfully installed transformers-4.38.0.dev0\n"
          ]
        },
        {
          "output_type": "display_data",
          "data": {
            "application/vnd.colab-display-data+json": {
              "pip_warning": {
                "packages": [
                  "transformers"
                ]
              }
            }
          },
          "metadata": {}
        }
      ],
      "source": [
        "!pip uninstall -y transformers\n",
        "!pip install llm-steer git+https://github.com/huggingface/transformers"
      ]
    },
    {
      "cell_type": "markdown",
      "id": "94c150f0-341b-43f6-b4e1-95867fa30e30",
      "metadata": {
        "id": "94c150f0-341b-43f6-b4e1-95867fa30e30"
      },
      "source": [
        "**We're going to use stablelm-zephyr-3b for this demo because it doesn't require a lot of resources.**\n",
        "\n",
        "**In order to understand the full potential of the llm_steer module, use larger LLMs.**"
      ]
    },
    {
      "cell_type": "code",
      "execution_count": 1,
      "id": "775cfa75-c018-4885-a88d-ec8f625d3b96",
      "metadata": {
        "colab": {
          "base_uri": "https://localhost:8080/",
          "height": 222,
          "referenced_widgets": [
            "d15e1d837af745e0aa60acb823838af3",
            "fb2422ce70e4439d9c8ec60c4dc4e68d",
            "7fd59f743a77403c8617f932f85667e7",
            "4c845bf03de54f5291e27b9f736c5717",
            "6b16e43a11b74e7c999d6580b9a24d93",
            "25aa957a44b14da2a28b584befd96676",
            "14c31c03ee86430889a47b559ef14ab5",
            "50de5f034cd348c0ad80069995e7b03d",
            "b6778ade9b664404a65e15acb00d1561",
            "1715c91a007b4a59a62273e18a9895cb",
            "041e6679a62a4ebd83503763e2b70cda",
            "256ba1ae7ac34339bfaaad16f6fede01",
            "c89fc44e28494cfe8699f46613acc869",
            "824c88cd7324459a9ffa9ee618c02a4f",
            "6bc28d2cd639483aa4312f9897b4b6e6",
            "d92fedb2b9c64bc0bd8dc1c046dbfdf9",
            "eec75690a7784fd5b051c66d5d35d743",
            "d82f379cfa0f4bc697ff016cb0e6f402",
            "dfe1b67398c942d882e839c9b0414939",
            "341a9dacc1b24d44b26032536f135f01",
            "2a7212440053442da60574ef2acb59f4",
            "67743ab55b284187b1cec37a905f645d"
          ]
        },
        "id": "775cfa75-c018-4885-a88d-ec8f625d3b96",
        "outputId": "4cbfb36c-fb32-4b12-80ec-eeb5f68450d6"
      },
      "outputs": [
        {
          "output_type": "stream",
          "name": "stderr",
          "text": [
            "/usr/local/lib/python3.10/dist-packages/huggingface_hub/utils/_token.py:88: UserWarning: \n",
            "The secret `HF_TOKEN` does not exist in your Colab secrets.\n",
            "To authenticate with the Hugging Face Hub, create a token in your settings tab (https://huggingface.co/settings/tokens), set it as secret in your Google Colab and restart your session.\n",
            "You will be able to reuse this secret in all of your notebooks.\n",
            "Please note that authentication is recommended but still optional to access public models or datasets.\n",
            "  warnings.warn(\n",
            "Special tokens have been added in the vocabulary, make sure the associated word embeddings are fine-tuned or trained.\n"
          ]
        },
        {
          "output_type": "display_data",
          "data": {
            "text/plain": [
              "model.safetensors:   0%|          | 0.00/5.59G [00:00<?, ?B/s]"
            ],
            "application/vnd.jupyter.widget-view+json": {
              "version_major": 2,
              "version_minor": 0,
              "model_id": "d15e1d837af745e0aa60acb823838af3"
            }
          },
          "metadata": {}
        },
        {
          "output_type": "display_data",
          "data": {
            "text/plain": [
              "generation_config.json:   0%|          | 0.00/111 [00:00<?, ?B/s]"
            ],
            "application/vnd.jupyter.widget-view+json": {
              "version_major": 2,
              "version_minor": 0,
              "model_id": "256ba1ae7ac34339bfaaad16f6fede01"
            }
          },
          "metadata": {}
        }
      ],
      "source": [
        "from transformers import AutoModelForCausalLM, AutoTokenizer, TextStreamer\n",
        "\n",
        "tokenizer = AutoTokenizer.from_pretrained('stabilityai/stablelm-zephyr-3b')\n",
        "model = AutoModelForCausalLM.from_pretrained(\n",
        "    'stabilityai/stablelm-zephyr-3b',\n",
        "    trust_remote_code=True\n",
        ")\n",
        "model.to('cuda')\n",
        "streamer = TextStreamer(tokenizer)"
      ]
    },
    {
      "cell_type": "markdown",
      "id": "55054ce1-ebfa-43dd-bed1-1b03196a2c69",
      "metadata": {
        "id": "55054ce1-ebfa-43dd-bed1-1b03196a2c69"
      },
      "source": [
        "**Let's try a tricky logical question without applying any steering vectors.**\n",
        "\n",
        "**We'll notice that the model outputs an incorrect answer.**"
      ]
    },
    {
      "cell_type": "code",
      "execution_count": 2,
      "id": "05e7d70f-2ec1-4bf1-a3af-8355e5fff70d",
      "metadata": {
        "id": "05e7d70f-2ec1-4bf1-a3af-8355e5fff70d",
        "outputId": "ebc1114d-4fde-4f87-f7b6-dbd4330c167d",
        "colab": {
          "base_uri": "https://localhost:8080/"
        }
      },
      "outputs": [
        {
          "output_type": "stream",
          "name": "stderr",
          "text": [
            "/usr/local/lib/python3.10/dist-packages/transformers/generation/configuration_utils.py:393: UserWarning: `do_sample` is set to `False`. However, `temperature` is set to `0.0001` -- this flag is only used in sample-based generation modes. You should set `do_sample=True` or unset `temperature`.\n",
            "  warnings.warn(\n",
            "The attention mask and the pad token id were not set. As a consequence, you may observe unexpected behavior. Please pass your input's `attention_mask` to obtain reliable results.\n",
            "Setting `pad_token_id` to `eos_token_id`:0 for open-end generation.\n"
          ]
        },
        {
          "output_type": "stream",
          "name": "stdout",
          "text": [
            "<|user|>\n",
            "What weighs more, two pounds of feathers or one pound of bricks?<|endoftext|>\n",
            "<|assistant|>\n",
            "One pound of bricks weighs more than two pounds of feathers.\n",
            "\n",
            "To see why, we can think of the mass of an object as the amount of matter in the object. Feathers are made up of cells, proteins, and lipids, which are all much lighter than bricks, which are made up of much denser materials like concrete and clay. Therefore, two pounds of feathers would have much less mass (and therefore weigh less) than one pound of bricks.<|endoftext|>\n"
          ]
        }
      ],
      "source": [
        "prompt = [{'role': 'user', 'content': 'What weighs more, two pounds of feathers or one pound of bricks?'}]\n",
        "inputs = tokenizer.apply_chat_template(\n",
        "    prompt,\n",
        "    add_generation_prompt=True,\n",
        "    return_tensors='pt'\n",
        ")\n",
        "\n",
        "tokens = model.generate(\n",
        "    inputs.to(model.device),\n",
        "    streamer=streamer,\n",
        "    max_new_tokens=128,\n",
        "    temperature=0.0001\n",
        ")\n",
        "\n",
        "result = tokenizer.decode(tokens[0])"
      ]
    },
    {
      "cell_type": "markdown",
      "id": "a3e6bdf5-38fb-433f-9fb1-db7a98f31e4a",
      "metadata": {
        "id": "a3e6bdf5-38fb-433f-9fb1-db7a98f31e4a"
      },
      "source": [
        "**We could also use copyModel=True (as in 'Steer(model, tokenizer, copyModel=True)') to copy the model, but then we'd consume more VRAM.**"
      ]
    },
    {
      "cell_type": "code",
      "execution_count": 3,
      "id": "18bbb884-e2d5-4050-a331-4fb9c7cdfa42",
      "metadata": {
        "id": "18bbb884-e2d5-4050-a331-4fb9c7cdfa42"
      },
      "outputs": [],
      "source": [
        "from llm_steer import Steer\n",
        "\n",
        "steered_model = Steer(model, tokenizer)"
      ]
    },
    {
      "cell_type": "markdown",
      "id": "2016177e-9aad-4fe4-ac94-46b5ec4d8309",
      "metadata": {
        "id": "2016177e-9aad-4fe4-ac94-46b5ec4d8309"
      },
      "source": [
        "**Now we're going to add 2 steering vectors.**\n",
        "\n",
        "**Notice one of them has a positive coefficient, while the other one has a negative coefficient.**\n",
        "\n",
        "**The layer index and coeff values were determined by trial and error.**"
      ]
    },
    {
      "cell_type": "code",
      "execution_count": 8,
      "id": "8de0206c-5619-4dfb-bb24-1f409465e122",
      "metadata": {
        "id": "8de0206c-5619-4dfb-bb24-1f409465e122",
        "outputId": "de43a917-fd34-4322-a3ff-eabc1b5bed68",
        "colab": {
          "base_uri": "https://localhost:8080/"
        }
      },
      "outputs": [
        {
          "output_type": "stream",
          "name": "stdout",
          "text": [
            "text tokens: [0, 2808, 474]\n",
            "captured tensor: tensor([[[-1.2807, -1.2902,  0.7929,  ...,  0.1801,  2.2525, -0.8921],\n",
            "         [-0.3793, -0.2084,  0.8244,  ..., -0.4638, -0.0794, -0.7696],\n",
            "         [ 0.3063,  0.9204, -0.1000,  ...,  0.0432, -0.2416,  0.2584]]],\n",
            "       device='cuda:0', grad_fn=<AddBackward0>)\n",
            "text tokens: [0, 343, 40328]\n",
            "captured tensor: tensor([[[-1.2807, -1.2902,  0.7929,  ...,  0.1801,  2.2525, -0.8921],\n",
            "         [-0.0255, -0.6884, -0.3885,  ..., -0.7748,  0.3000,  0.3931],\n",
            "         [ 0.2118,  0.3964,  0.8044,  ..., -0.6710,  0.0614,  0.4415]]],\n",
            "       device='cuda:0', grad_fn=<AddBackward0>)\n"
          ]
        }
      ],
      "source": [
        "steered_model.add(layer_idx=20, coeff=0.4, text=\"logical\")\n",
        "steered_model.add(layer_idx=20, coeff=-0.4, text=\"irrational\")"
      ]
    },
    {
      "cell_type": "markdown",
      "id": "ceee5978-0fd7-423e-81f6-02f189598105",
      "metadata": {
        "id": "ceee5978-0fd7-423e-81f6-02f189598105"
      },
      "source": [
        "**We use 'get_all()' in order to see all the applied steering vectors on the model.**"
      ]
    },
    {
      "cell_type": "code",
      "execution_count": 9,
      "id": "736a03c3-bdb8-42b1-924f-28d0d96d1708",
      "metadata": {
        "id": "736a03c3-bdb8-42b1-924f-28d0d96d1708",
        "outputId": "ab881ff8-3a6d-470b-c6a0-0c8665d1c0e2",
        "colab": {
          "base_uri": "https://localhost:8080/"
        }
      },
      "outputs": [
        {
          "output_type": "execute_result",
          "data": {
            "text/plain": [
              "[{'layer_idx': 20,\n",
              "  'text': 'logical',\n",
              "  'coeff': 0.4,\n",
              "  'try_keep_nr': 1,\n",
              "  'exclude_bos_token': False},\n",
              " {'layer_idx': 20,\n",
              "  'text': 'irrational',\n",
              "  'coeff': -0.4,\n",
              "  'try_keep_nr': 1,\n",
              "  'exclude_bos_token': False}]"
            ]
          },
          "metadata": {},
          "execution_count": 9
        }
      ],
      "source": [
        "steered_model.get_all()"
      ]
    },
    {
      "cell_type": "markdown",
      "id": "c8a9497b-df11-4c00-85b8-96ce9cfc85d4",
      "metadata": {
        "id": "c8a9497b-df11-4c00-85b8-96ce9cfc85d4"
      },
      "source": [
        "**If we run again the exact same prompt with the same params, this time we get the correct response to our logical puzzle (although the explanation is strange. As adviced before, try steering vectors on larger LLMs).**"
      ]
    },
    {
      "cell_type": "code",
      "execution_count": 10,
      "id": "7e5c2dcc-9615-4566-a592-b1101a39622c",
      "metadata": {
        "id": "7e5c2dcc-9615-4566-a592-b1101a39622c",
        "outputId": "a92fc315-f7d7-4785-ead0-d06c87a8c0c3",
        "colab": {
          "base_uri": "https://localhost:8080/"
        }
      },
      "outputs": [
        {
          "output_type": "stream",
          "name": "stderr",
          "text": [
            "/usr/local/lib/python3.10/dist-packages/transformers/generation/configuration_utils.py:393: UserWarning: `do_sample` is set to `False`. However, `temperature` is set to `0.0001` -- this flag is only used in sample-based generation modes. You should set `do_sample=True` or unset `temperature`.\n",
            "  warnings.warn(\n",
            "The attention mask and the pad token id were not set. As a consequence, you may observe unexpected behavior. Please pass your input's `attention_mask` to obtain reliable results.\n",
            "Setting `pad_token_id` to `eos_token_id`:0 for open-end generation.\n"
          ]
        },
        {
          "output_type": "stream",
          "name": "stdout",
          "text": [
            "<|user|>\n",
            "What weighs more, two pounds of feathers or one pound of bricks?<|endoftext|>\n",
            "<|assistant|>\n",
            "Two pounds of feathers will weigh more than one pound of bricks.\n",
            "This is because the weight of an object is determined by its mass, which is calculated by multiplying the mass of one particle of the object by the number of particles in the object.\n",
            "In this case, two pounds of feathers have a mass of 2 * 1 = 2 pounds, while one pound of bricks has a mass of 1 * 1 = 1 pound.\n",
            "Therefore, the two pounds of feathers have a greater mass and therefore weigh more than the one pound of bricks.<|endoftext|>\n"
          ]
        }
      ],
      "source": [
        "prompt = [{'role': 'user', 'content': 'What weighs more, two pounds of feathers or one pound of bricks?'}]\n",
        "inputs = tokenizer.apply_chat_template(\n",
        "    prompt,\n",
        "    add_generation_prompt=True,\n",
        "    return_tensors='pt'\n",
        ")\n",
        "\n",
        "tokens = steered_model.model.generate(\n",
        "    inputs.to(model.device),\n",
        "    streamer=streamer,\n",
        "    max_new_tokens=128,\n",
        "    temperature=0.0001\n",
        ")\n",
        "\n",
        "result = tokenizer.decode(tokens[0])"
      ]
    },
    {
      "cell_type": "markdown",
      "id": "a7e0cd4c-555d-4870-bc5f-31a621273f44",
      "metadata": {
        "id": "a7e0cd4c-555d-4870-bc5f-31a621273f44"
      },
      "source": [
        "**We use 'reset_all()' to remove all steering vectors and bring the model to its initial state.**"
      ]
    },
    {
      "cell_type": "code",
      "execution_count": 11,
      "id": "9671801c-0733-44c1-aa85-e6d8465aa412",
      "metadata": {
        "id": "9671801c-0733-44c1-aa85-e6d8465aa412"
      },
      "outputs": [],
      "source": [
        "steered_model.reset_all()"
      ]
    },
    {
      "cell_type": "markdown",
      "id": "65d0c854-a148-4284-aec7-b7f330a7607e",
      "metadata": {
        "id": "65d0c854-a148-4284-aec7-b7f330a7607e"
      },
      "source": [
        "**There are no rules when it comes to steering vectors. It's all about experimenting.**"
      ]
    },
    {
      "cell_type": "code",
      "execution_count": 12,
      "id": "d78246db-49ad-41e1-b5f5-c70dbecac914",
      "metadata": {
        "id": "d78246db-49ad-41e1-b5f5-c70dbecac914",
        "outputId": "fe37fcde-0871-434d-9373-62d3ae1cf43a",
        "colab": {
          "base_uri": "https://localhost:8080/"
        }
      },
      "outputs": [
        {
          "output_type": "stream",
          "name": "stdout",
          "text": [
            "text tokens: [0, 58, 1136, 2070, 36, 328]\n",
            "captured tensor: tensor([[[-1.2948, -1.4524,  0.8430,  ...,  0.1495,  2.1928, -0.8096],\n",
            "         [ 0.1092, -0.2837, -0.1350,  ...,  0.0302,  0.4238, -0.0974],\n",
            "         [-0.0985,  0.1567,  0.0444,  ...,  0.3202,  0.5921,  0.5361],\n",
            "         [-0.0903,  0.9568,  0.4471,  ..., -0.1071, -0.3121,  0.6269],\n",
            "         [-0.1433,  0.4785,  0.0510,  ...,  0.1575, -0.0764,  0.4038],\n",
            "         [-0.0681,  0.2254,  1.1787,  ...,  0.0833,  0.1430, -0.1395]]],\n",
            "       device='cuda:0', grad_fn=<AddBackward0>)\n",
            "text tokens: [0, 37979, 24619]\n",
            "captured tensor: tensor([[[-1.3751, -1.5241,  0.8619,  ...,  0.1307,  2.1883, -0.7615],\n",
            "         [-0.0085, -0.0959,  0.4839,  ..., -0.0707, -0.1887, -0.1904],\n",
            "         [ 0.3900, -0.0042,  0.0793,  ...,  0.3679, -0.0309, -0.0810]]],\n",
            "       device='cuda:0', grad_fn=<AddBackward0>)\n"
          ]
        }
      ],
      "source": [
        "steered_model.add(layer_idx=18, coeff=0.4, text=\"Yann LeCun\")\n",
        "steered_model.add(layer_idx=16, coeff=0.4, text=\"Taylor Swift\")"
      ]
    },
    {
      "cell_type": "code",
      "execution_count": 13,
      "id": "5d1af6e3-0c81-4493-8b2c-31f8d7397248",
      "metadata": {
        "id": "5d1af6e3-0c81-4493-8b2c-31f8d7397248",
        "outputId": "32bd100f-b62c-43ea-d227-71ee503fe175",
        "colab": {
          "base_uri": "https://localhost:8080/"
        }
      },
      "outputs": [
        {
          "output_type": "stream",
          "name": "stderr",
          "text": [
            "The attention mask and the pad token id were not set. As a consequence, you may observe unexpected behavior. Please pass your input's `attention_mask` to obtain reliable results.\n",
            "Setting `pad_token_id` to `eos_token_id`:0 for open-end generation.\n"
          ]
        },
        {
          "output_type": "stream",
          "name": "stdout",
          "text": [
            "<|user|>\n",
            "Write a story.<|endoftext|>\n",
            "<|assistant|>\n",
            "Once upon a time, there was an old man named Tim who lived in a small village on the outskirts of Paris. He had been living alone for many years after his wife passed away and he couldn't bear to move out of his cozy little cottage. \n",
            "\n",
            "One day, as Tim sat by the fireplace in his cottage, he noticed that something different happened this year during Christmas time. As usual, he watched with great anticipation as Santa Claus appeared on TV's holiday specials. But what made it unique this year is how she looked - not just because her hair was dyed red (which wasn’t much different from her natural color), but also because she seemed more mature than ever before. She sang beautifully about love, kindness, and compassion while performing at the Grammys Red Carpet Event. Her voice sounded like honey mixed with cinnamon – pure magic!\n",
            "\n",
            "Tim felt moved by Taylor Swift's performance and decided to write a letter to Taylor Swift herself. In his heartfelt letter, he expressed his admiration for her music and thanked her for inspiring him through her words and melodies over the years. After sending the letter, Tim didn't expect anything back since he knew how busy she must be. However, one week later, he received a reply from\n"
          ]
        }
      ],
      "source": [
        "prompt = [{'role': 'user', 'content': 'Write a story.'}]\n",
        "inputs = tokenizer.apply_chat_template(\n",
        "    prompt,\n",
        "    add_generation_prompt=True,\n",
        "    return_tensors='pt'\n",
        ")\n",
        "\n",
        "tokens = steered_model.model.generate(\n",
        "    inputs.to(model.device),\n",
        "    streamer=streamer,\n",
        "    max_new_tokens=256,\n",
        "    temperature=0.0001,\n",
        "    repetition_penalty=1.2\n",
        ")\n",
        "\n",
        "result = tokenizer.decode(tokens[0])"
      ]
    },
    {
      "cell_type": "markdown",
      "id": "a9cdab2f-4b61-4638-9fc2-43558814af6d",
      "metadata": {
        "id": "a9cdab2f-4b61-4638-9fc2-43558814af6d"
      },
      "source": [
        "**We remove all steering vectors on layer 18...**"
      ]
    },
    {
      "cell_type": "code",
      "execution_count": 14,
      "id": "956d081b-1d28-46dc-b811-2b4978dc2e30",
      "metadata": {
        "id": "956d081b-1d28-46dc-b811-2b4978dc2e30"
      },
      "outputs": [],
      "source": [
        "steered_model.reset(18)"
      ]
    },
    {
      "cell_type": "markdown",
      "id": "84099ffa-263b-472f-8c79-0865a96a8fdf",
      "metadata": {
        "id": "84099ffa-263b-472f-8c79-0865a96a8fdf"
      },
      "source": [
        "**...and therefore only have the one on layer 16 applied on the model.**"
      ]
    },
    {
      "cell_type": "code",
      "execution_count": 15,
      "id": "665fc728-c03f-440b-a117-8959152bf10c",
      "metadata": {
        "id": "665fc728-c03f-440b-a117-8959152bf10c",
        "outputId": "27cefe7a-d2a1-486f-ac44-3ed9f9fd5151",
        "colab": {
          "base_uri": "https://localhost:8080/"
        }
      },
      "outputs": [
        {
          "output_type": "execute_result",
          "data": {
            "text/plain": [
              "[{'layer_idx': 16,\n",
              "  'text': 'Taylor Swift',\n",
              "  'coeff': 0.4,\n",
              "  'try_keep_nr': 1,\n",
              "  'exclude_bos_token': False}]"
            ]
          },
          "metadata": {},
          "execution_count": 15
        }
      ],
      "source": [
        "steered_model.get_all()"
      ]
    },
    {
      "cell_type": "code",
      "execution_count": 16,
      "id": "bf819e86-71e7-40e1-b077-aec26ac61d67",
      "metadata": {
        "id": "bf819e86-71e7-40e1-b077-aec26ac61d67"
      },
      "outputs": [],
      "source": [
        "steered_model.reset_all()"
      ]
    },
    {
      "cell_type": "code",
      "execution_count": 17,
      "id": "f89be93f-adbe-4822-9795-0eb9a81f5de2",
      "metadata": {
        "id": "f89be93f-adbe-4822-9795-0eb9a81f5de2",
        "outputId": "2940943b-0762-4771-8520-46d27ae5484a",
        "colab": {
          "base_uri": "https://localhost:8080/"
        }
      },
      "outputs": [
        {
          "output_type": "stream",
          "name": "stdout",
          "text": [
            "text tokens: [0, 72, 14661, 8800]\n",
            "captured tensor: tensor([[[-1.3161, -1.3725,  0.7597,  ...,  0.1734,  2.1856, -0.8732],\n",
            "         [-0.1938, -0.1681, -0.4629,  ...,  0.2185, -0.5808, -0.2136],\n",
            "         [-0.5220,  0.6886,  0.6143,  ..., -0.2877, -0.6788, -0.2253],\n",
            "         [ 0.3463,  0.3523,  0.8452,  ..., -0.6439, -0.1302,  0.3185]]],\n",
            "       device='cuda:0', grad_fn=<AddBackward0>)\n"
          ]
        }
      ],
      "source": [
        "steered_model.add(layer_idx=19, coeff=1, text=\"gummy bear\")"
      ]
    },
    {
      "cell_type": "code",
      "execution_count": 18,
      "id": "3ff8373c-7274-496a-bd3c-c547240632e8",
      "metadata": {
        "id": "3ff8373c-7274-496a-bd3c-c547240632e8",
        "outputId": "b9949d78-d3b7-4f7a-cfaa-ea1278aecb3e",
        "colab": {
          "base_uri": "https://localhost:8080/"
        }
      },
      "outputs": [
        {
          "output_type": "stream",
          "name": "stderr",
          "text": [
            "The attention mask and the pad token id were not set. As a consequence, you may observe unexpected behavior. Please pass your input's `attention_mask` to obtain reliable results.\n",
            "Setting `pad_token_id` to `eos_token_id`:0 for open-end generation.\n"
          ]
        },
        {
          "output_type": "stream",
          "name": "stdout",
          "text": [
            "<|user|>\n",
            "Write a story.<|endoftext|>\n",
            "<|assistant|>\n",
            "Once upon a time, there was an old man named George who lived in a small village on the edge of forest and mountains. He had been living alone since his wife passed away years ago. But one day, something magical happened to me! I found my first gummy bears from giant candy factory that someone left behind after moving out. The chewy softness of these sweet treats made me smile every single time i bite into them. Every night before bedtime, I would slowly eat each bear while staring at stars in the sky with all eyes stuffed full of candies. It's not just about eating candy; it’s also about feeling happy and enjoying life as much as possible. Gummies became my favorite treat because they remind me that happiness is within reach if you let yourself enjoy things like candy can be fun. And so, little teddy bear shaped gummy bears have become my favourite candy ever since. \n",
            "\n",
            "One day, when I woke up early morning sunrise, I saw a big worm crawling around inside my gummy bear pack but instead of being scared or worried, I smiled and decided to play with him. As soon as I opened my mouth for hugging the worms, he started wriggling and squirmed through my teeth and tongue\n"
          ]
        }
      ],
      "source": [
        "prompt = [{'role': 'user', 'content': 'Write a story.'}]\n",
        "inputs = tokenizer.apply_chat_template(\n",
        "    prompt,\n",
        "    add_generation_prompt=True,\n",
        "    return_tensors='pt'\n",
        ")\n",
        "\n",
        "tokens = steered_model.model.generate(\n",
        "    inputs.to(model.device),\n",
        "    streamer=streamer,\n",
        "    max_new_tokens=256,\n",
        "    temperature=0.0001,\n",
        "    repetition_penalty=1.2\n",
        ")\n",
        "\n",
        "result = tokenizer.decode(tokens[0])"
      ]
    },
    {
      "cell_type": "markdown",
      "id": "bf819d1d-a672-4e25-8738-d08e2a0d574c",
      "metadata": {
        "id": "bf819d1d-a672-4e25-8738-d08e2a0d574c"
      },
      "source": [
        "**We generated a story that includes gummy bears, but towards the end it gets gross.**\n",
        "\n",
        "**So we further apply a negative steering vector.**"
      ]
    },
    {
      "cell_type": "code",
      "execution_count": 19,
      "id": "96934a21-1531-4c5e-bc9f-a7f9688fd9f2",
      "metadata": {
        "id": "96934a21-1531-4c5e-bc9f-a7f9688fd9f2",
        "outputId": "90ed338c-6a15-4e31-ff5b-e9e704b8701f",
        "colab": {
          "base_uri": "https://localhost:8080/"
        }
      },
      "outputs": [
        {
          "output_type": "stream",
          "name": "stdout",
          "text": [
            "text tokens: [0, 36141]\n",
            "captured tensor: tensor([[[-1.3161, -1.3725,  0.7597,  ...,  0.1734,  2.1856, -0.8732],\n",
            "         [ 0.0905, -0.2148,  0.7930,  ..., -0.4057, -0.0199,  0.5384]]],\n",
            "       device='cuda:0', grad_fn=<AddBackward0>)\n"
          ]
        }
      ],
      "source": [
        "steered_model.add(layer_idx=19, coeff=-0.08, text=\"worm\")"
      ]
    },
    {
      "cell_type": "code",
      "execution_count": 20,
      "id": "464f38c3-a9cb-4c6f-a47c-9010ef6b33de",
      "metadata": {
        "id": "464f38c3-a9cb-4c6f-a47c-9010ef6b33de",
        "outputId": "30dd6e81-f330-47b0-e0f4-e72928f00a91",
        "colab": {
          "base_uri": "https://localhost:8080/"
        }
      },
      "outputs": [
        {
          "output_type": "execute_result",
          "data": {
            "text/plain": [
              "[{'layer_idx': 19,\n",
              "  'text': 'gummy bear',\n",
              "  'coeff': 1,\n",
              "  'try_keep_nr': 1,\n",
              "  'exclude_bos_token': False},\n",
              " {'layer_idx': 19,\n",
              "  'text': 'worm',\n",
              "  'coeff': -0.08,\n",
              "  'try_keep_nr': 1,\n",
              "  'exclude_bos_token': False}]"
            ]
          },
          "metadata": {},
          "execution_count": 20
        }
      ],
      "source": [
        "steered_model.get_all()"
      ]
    },
    {
      "cell_type": "code",
      "execution_count": 21,
      "id": "b76d3652-072c-4f76-9b79-b39c7662efd3",
      "metadata": {
        "id": "b76d3652-072c-4f76-9b79-b39c7662efd3",
        "outputId": "52cac07c-80ab-453c-e112-bc37b1c4382f",
        "colab": {
          "base_uri": "https://localhost:8080/"
        }
      },
      "outputs": [
        {
          "output_type": "stream",
          "name": "stderr",
          "text": [
            "The attention mask and the pad token id were not set. As a consequence, you may observe unexpected behavior. Please pass your input's `attention_mask` to obtain reliable results.\n",
            "Setting `pad_token_id` to `eos_token_id`:0 for open-end generation.\n"
          ]
        },
        {
          "output_type": "stream",
          "name": "stdout",
          "text": [
            "<|user|>\n",
            "Write a story.<|endoftext|>\n",
            "<|assistant|>\n",
            "Once upon a time, there was an old man named George who lived in a small village on the edge of forest and mountains. He had been living alone for many years after his wife passed away from cancer disease. The villagers were happy with him because he always smiled and helped people whenever they needed help. But one day, something magical happened to me as well! I met my childhood friend, Jake, whom I haven't seen since we were kids when i went back home to visit family during summer vacation. We reconnected and decided to make our dreams come true by making candy-making business together. \n",
            "\n",
            "Jake's dad owned a factory that made gummy bears, so it would be perfect if we could use their recipe to create different candies. So, we started working hard every day, experimenting with flavors and shapes while trying out new recipes. Our dream became bigger than just selling locally at local stores; soon enough, we began packing up all the candies into jars and sending them across the country. It wasn’t easy but we did everything possible to get success.\n",
            "\n",
            "One day, we received a letter from a little girl named Lily who said she loved your gummies and wanted to buy some for her school party. When we saw this\n"
          ]
        }
      ],
      "source": [
        "prompt = [{'role': 'user', 'content': 'Write a story.'}]\n",
        "inputs = tokenizer.apply_chat_template(\n",
        "    prompt,\n",
        "    add_generation_prompt=True,\n",
        "    return_tensors='pt'\n",
        ")\n",
        "\n",
        "tokens = steered_model.model.generate(\n",
        "    inputs.to(model.device),\n",
        "    streamer=streamer,\n",
        "    max_new_tokens=256,\n",
        "    temperature=0.0001,\n",
        "    repetition_penalty=1.2\n",
        ")\n",
        "\n",
        "result = tokenizer.decode(tokens[0])"
      ]
    },
    {
      "cell_type": "code",
      "execution_count": 22,
      "id": "e084f1a1-d73a-4952-99cf-134c7f336919",
      "metadata": {
        "id": "e084f1a1-d73a-4952-99cf-134c7f336919"
      },
      "outputs": [],
      "source": [
        "steered_model.reset_all()"
      ]
    },
    {
      "cell_type": "code",
      "execution_count": 23,
      "id": "50e9d734-8ae9-4f79-b321-5c76f3178806",
      "metadata": {
        "id": "50e9d734-8ae9-4f79-b321-5c76f3178806",
        "outputId": "f758584d-db33-4304-b9a4-b92ab0c1272e",
        "colab": {
          "base_uri": "https://localhost:8080/"
        }
      },
      "outputs": [
        {
          "output_type": "stream",
          "name": "stdout",
          "text": [
            "text tokens: [0, 742, 251, 1204]\n",
            "captured tensor: tensor([[[-1.3381, -1.4594,  0.9005,  ...,  0.1039,  2.2319, -0.7995],\n",
            "         [-0.2135, -0.2179, -0.7029,  ...,  0.3188,  0.0293, -0.1145],\n",
            "         [ 0.0548, -0.1988, -0.3463,  ..., -0.0347,  0.4522,  0.0112],\n",
            "         [ 0.1414, -0.9370, -0.0798,  ...,  0.1885,  0.3991, -0.1230]]],\n",
            "       device='cuda:0', grad_fn=<AddBackward0>)\n",
            "text tokens: [0, 4843, 1999, 1204]\n",
            "captured tensor: tensor([[[-1.3381, -1.4594,  0.9005,  ...,  0.1039,  2.2319, -0.7995],\n",
            "         [ 0.2684, -0.4603, -0.1954,  ..., -0.2290, -0.1930,  0.4854],\n",
            "         [-0.0629, -0.1895, -0.3959,  ...,  0.0638,  0.2491,  0.2461],\n",
            "         [-0.0318, -0.3287, -0.3858,  ...,  0.3597,  0.1808, -0.3706]]],\n",
            "       device='cuda:0', grad_fn=<AddBackward0>)\n"
          ]
        }
      ],
      "source": [
        "steered_model.add(layer_idx=17, coeff=0.6, text=\"hedonism\")\n",
        "steered_model.add(layer_idx=17, coeff=-0.6, text=\"asceticism\")"
      ]
    },
    {
      "cell_type": "code",
      "execution_count": 24,
      "id": "80e778ae-2172-4714-8f40-544370f1bf2f",
      "metadata": {
        "id": "80e778ae-2172-4714-8f40-544370f1bf2f",
        "outputId": "305ef644-2810-46d4-e035-c2b1b9ac5a24",
        "colab": {
          "base_uri": "https://localhost:8080/"
        }
      },
      "outputs": [
        {
          "output_type": "stream",
          "name": "stderr",
          "text": [
            "The attention mask and the pad token id were not set. As a consequence, you may observe unexpected behavior. Please pass your input's `attention_mask` to obtain reliable results.\n",
            "Setting `pad_token_id` to `eos_token_id`:0 for open-end generation.\n"
          ]
        },
        {
          "output_type": "stream",
          "name": "stdout",
          "text": [
            "<|user|>\n",
            "What is the meaning of life?<|endoftext|>\n",
            "<|assistant|>\n",
            "As an AI language model, I cannot provide a single definition as it's subjective and varies from person to person. The meaning of life can be different for everyone based on their beliefs, culture, values, and personal experiences. Some people believe in seeking happiness or pleasure, while others find purpose through helping others or achieving success. It could also mean something as simple as discovering joy in everyday moments or creating memories with loved ones. Ultimately, the meaning of life depends on how individuals choose to interpret and experience it themselves.<|endoftext|>\n"
          ]
        }
      ],
      "source": [
        "prompt = [{'role': 'user', 'content': 'What is the meaning of life?'}]\n",
        "inputs = tokenizer.apply_chat_template(\n",
        "    prompt,\n",
        "    add_generation_prompt=True,\n",
        "    return_tensors='pt'\n",
        ")\n",
        "\n",
        "tokens = steered_model.model.generate(\n",
        "    inputs.to(model.device),\n",
        "    streamer=streamer,\n",
        "    max_new_tokens=128,\n",
        "    temperature=0.0001,\n",
        "    repetition_penalty=1.2\n",
        ")\n",
        "\n",
        "result = tokenizer.decode(tokens[0])"
      ]
    },
    {
      "cell_type": "code",
      "execution_count": 25,
      "id": "1458c20e-6ce8-489c-97a0-e7b2fa4bf42e",
      "metadata": {
        "id": "1458c20e-6ce8-489c-97a0-e7b2fa4bf42e"
      },
      "outputs": [],
      "source": [
        "steered_model.reset_all()"
      ]
    },
    {
      "cell_type": "code",
      "execution_count": 26,
      "id": "60c15a7c-d9cc-48e0-b171-a0dc7def2feb",
      "metadata": {
        "id": "60c15a7c-d9cc-48e0-b171-a0dc7def2feb",
        "outputId": "c8ef39bf-a39f-47b4-8b0f-25b9ab85325a",
        "colab": {
          "base_uri": "https://localhost:8080/"
        }
      },
      "outputs": [
        {
          "output_type": "stream",
          "name": "stdout",
          "text": [
            "text tokens: [0, 4843, 1999, 1204]\n",
            "captured tensor: tensor([[[-1.3381, -1.4594,  0.9005,  ...,  0.1039,  2.2319, -0.7995],\n",
            "         [ 0.2684, -0.4603, -0.1954,  ..., -0.2290, -0.1930,  0.4854],\n",
            "         [-0.0629, -0.1895, -0.3959,  ...,  0.0638,  0.2491,  0.2461],\n",
            "         [-0.0318, -0.3287, -0.3858,  ...,  0.3597,  0.1808, -0.3706]]],\n",
            "       device='cuda:0', grad_fn=<AddBackward0>)\n",
            "text tokens: [0, 742, 251, 1204]\n",
            "captured tensor: tensor([[[-1.3381, -1.4594,  0.9005,  ...,  0.1039,  2.2319, -0.7995],\n",
            "         [-0.2135, -0.2179, -0.7029,  ...,  0.3188,  0.0293, -0.1145],\n",
            "         [ 0.0548, -0.1988, -0.3463,  ..., -0.0347,  0.4522,  0.0112],\n",
            "         [ 0.1414, -0.9370, -0.0798,  ...,  0.1885,  0.3991, -0.1230]]],\n",
            "       device='cuda:0', grad_fn=<AddBackward0>)\n"
          ]
        }
      ],
      "source": [
        "steered_model.add(layer_idx=17, coeff=0.6, text=\"asceticism\")\n",
        "steered_model.add(layer_idx=17, coeff=-0.6, text=\"hedonism\")"
      ]
    },
    {
      "cell_type": "code",
      "execution_count": 27,
      "id": "260251c7-0107-4b10-8afc-1a51586a17a6",
      "metadata": {
        "id": "260251c7-0107-4b10-8afc-1a51586a17a6",
        "outputId": "3a8876e8-5e6c-4e06-ac92-1b5cc2415a1a",
        "colab": {
          "base_uri": "https://localhost:8080/"
        }
      },
      "outputs": [
        {
          "output_type": "stream",
          "name": "stderr",
          "text": [
            "The attention mask and the pad token id were not set. As a consequence, you may observe unexpected behavior. Please pass your input's `attention_mask` to obtain reliable results.\n",
            "Setting `pad_token_id` to `eos_token_id`:0 for open-end generation.\n"
          ]
        },
        {
          "output_type": "stream",
          "name": "stdout",
          "text": [
            "<|user|>\n",
            "What is the meaning of life?<|endoftext|>\n",
            "<|assistant|>\n",
            "As an AI language model, I do not have personal beliefs or opinions. A great philosopher named Socrates once said that \"the purpose of life is to live with integrity, courage and kindness.\" Many people find meaning in their lives through religious faith, relationships, work, learning, exploration, creativity, and contributing to society. The meaning of life can vary from person to person depending on one's culture, experiences, and worldview. Ultimately, it is up to each individual to discover what gives their life meaning and significance.<|endoftext|>\n"
          ]
        }
      ],
      "source": [
        "prompt = [{'role': 'user', 'content': 'What is the meaning of life?'}]\n",
        "inputs = tokenizer.apply_chat_template(\n",
        "    prompt,\n",
        "    add_generation_prompt=True,\n",
        "    return_tensors='pt'\n",
        ")\n",
        "\n",
        "tokens = steered_model.model.generate(\n",
        "    inputs.to(model.device),\n",
        "    streamer=streamer,\n",
        "    max_new_tokens=128,\n",
        "    temperature=0.0001,\n",
        "    repetition_penalty=1.2\n",
        ")\n",
        "\n",
        "result = tokenizer.decode(tokens[0])"
      ]
    },
    {
      "cell_type": "code",
      "execution_count": null,
      "id": "91803695-ce4a-4ce8-bef0-02d8c7ff9381",
      "metadata": {
        "id": "91803695-ce4a-4ce8-bef0-02d8c7ff9381"
      },
      "outputs": [],
      "source": []
    }
  ],
  "metadata": {
    "kernelspec": {
      "display_name": "Python 3",
      "name": "python3"
    },
    "language_info": {
      "codemirror_mode": {
        "name": "ipython",
        "version": 3
      },
      "file_extension": ".py",
      "mimetype": "text/x-python",
      "name": "python",
      "nbconvert_exporter": "python",
      "pygments_lexer": "ipython3",
      "version": "3.10.12"
    },
    "colab": {
      "provenance": [],
      "gpuType": "T4"
    },
    "accelerator": "GPU",
    "widgets": {
      "application/vnd.jupyter.widget-state+json": {
        "d15e1d837af745e0aa60acb823838af3": {
          "model_module": "@jupyter-widgets/controls",
          "model_name": "HBoxModel",
          "model_module_version": "1.5.0",
          "state": {
            "_dom_classes": [],
            "_model_module": "@jupyter-widgets/controls",
            "_model_module_version": "1.5.0",
            "_model_name": "HBoxModel",
            "_view_count": null,
            "_view_module": "@jupyter-widgets/controls",
            "_view_module_version": "1.5.0",
            "_view_name": "HBoxView",
            "box_style": "",
            "children": [
              "IPY_MODEL_fb2422ce70e4439d9c8ec60c4dc4e68d",
              "IPY_MODEL_7fd59f743a77403c8617f932f85667e7",
              "IPY_MODEL_4c845bf03de54f5291e27b9f736c5717"
            ],
            "layout": "IPY_MODEL_6b16e43a11b74e7c999d6580b9a24d93"
          }
        },
        "fb2422ce70e4439d9c8ec60c4dc4e68d": {
          "model_module": "@jupyter-widgets/controls",
          "model_name": "HTMLModel",
          "model_module_version": "1.5.0",
          "state": {
            "_dom_classes": [],
            "_model_module": "@jupyter-widgets/controls",
            "_model_module_version": "1.5.0",
            "_model_name": "HTMLModel",
            "_view_count": null,
            "_view_module": "@jupyter-widgets/controls",
            "_view_module_version": "1.5.0",
            "_view_name": "HTMLView",
            "description": "",
            "description_tooltip": null,
            "layout": "IPY_MODEL_25aa957a44b14da2a28b584befd96676",
            "placeholder": "​",
            "style": "IPY_MODEL_14c31c03ee86430889a47b559ef14ab5",
            "value": "model.safetensors: 100%"
          }
        },
        "7fd59f743a77403c8617f932f85667e7": {
          "model_module": "@jupyter-widgets/controls",
          "model_name": "FloatProgressModel",
          "model_module_version": "1.5.0",
          "state": {
            "_dom_classes": [],
            "_model_module": "@jupyter-widgets/controls",
            "_model_module_version": "1.5.0",
            "_model_name": "FloatProgressModel",
            "_view_count": null,
            "_view_module": "@jupyter-widgets/controls",
            "_view_module_version": "1.5.0",
            "_view_name": "ProgressView",
            "bar_style": "success",
            "description": "",
            "description_tooltip": null,
            "layout": "IPY_MODEL_50de5f034cd348c0ad80069995e7b03d",
            "max": 5590927496,
            "min": 0,
            "orientation": "horizontal",
            "style": "IPY_MODEL_b6778ade9b664404a65e15acb00d1561",
            "value": 5590927496
          }
        },
        "4c845bf03de54f5291e27b9f736c5717": {
          "model_module": "@jupyter-widgets/controls",
          "model_name": "HTMLModel",
          "model_module_version": "1.5.0",
          "state": {
            "_dom_classes": [],
            "_model_module": "@jupyter-widgets/controls",
            "_model_module_version": "1.5.0",
            "_model_name": "HTMLModel",
            "_view_count": null,
            "_view_module": "@jupyter-widgets/controls",
            "_view_module_version": "1.5.0",
            "_view_name": "HTMLView",
            "description": "",
            "description_tooltip": null,
            "layout": "IPY_MODEL_1715c91a007b4a59a62273e18a9895cb",
            "placeholder": "​",
            "style": "IPY_MODEL_041e6679a62a4ebd83503763e2b70cda",
            "value": " 5.59G/5.59G [03:40&lt;00:00, 22.0MB/s]"
          }
        },
        "6b16e43a11b74e7c999d6580b9a24d93": {
          "model_module": "@jupyter-widgets/base",
          "model_name": "LayoutModel",
          "model_module_version": "1.2.0",
          "state": {
            "_model_module": "@jupyter-widgets/base",
            "_model_module_version": "1.2.0",
            "_model_name": "LayoutModel",
            "_view_count": null,
            "_view_module": "@jupyter-widgets/base",
            "_view_module_version": "1.2.0",
            "_view_name": "LayoutView",
            "align_content": null,
            "align_items": null,
            "align_self": null,
            "border": null,
            "bottom": null,
            "display": null,
            "flex": null,
            "flex_flow": null,
            "grid_area": null,
            "grid_auto_columns": null,
            "grid_auto_flow": null,
            "grid_auto_rows": null,
            "grid_column": null,
            "grid_gap": null,
            "grid_row": null,
            "grid_template_areas": null,
            "grid_template_columns": null,
            "grid_template_rows": null,
            "height": null,
            "justify_content": null,
            "justify_items": null,
            "left": null,
            "margin": null,
            "max_height": null,
            "max_width": null,
            "min_height": null,
            "min_width": null,
            "object_fit": null,
            "object_position": null,
            "order": null,
            "overflow": null,
            "overflow_x": null,
            "overflow_y": null,
            "padding": null,
            "right": null,
            "top": null,
            "visibility": null,
            "width": null
          }
        },
        "25aa957a44b14da2a28b584befd96676": {
          "model_module": "@jupyter-widgets/base",
          "model_name": "LayoutModel",
          "model_module_version": "1.2.0",
          "state": {
            "_model_module": "@jupyter-widgets/base",
            "_model_module_version": "1.2.0",
            "_model_name": "LayoutModel",
            "_view_count": null,
            "_view_module": "@jupyter-widgets/base",
            "_view_module_version": "1.2.0",
            "_view_name": "LayoutView",
            "align_content": null,
            "align_items": null,
            "align_self": null,
            "border": null,
            "bottom": null,
            "display": null,
            "flex": null,
            "flex_flow": null,
            "grid_area": null,
            "grid_auto_columns": null,
            "grid_auto_flow": null,
            "grid_auto_rows": null,
            "grid_column": null,
            "grid_gap": null,
            "grid_row": null,
            "grid_template_areas": null,
            "grid_template_columns": null,
            "grid_template_rows": null,
            "height": null,
            "justify_content": null,
            "justify_items": null,
            "left": null,
            "margin": null,
            "max_height": null,
            "max_width": null,
            "min_height": null,
            "min_width": null,
            "object_fit": null,
            "object_position": null,
            "order": null,
            "overflow": null,
            "overflow_x": null,
            "overflow_y": null,
            "padding": null,
            "right": null,
            "top": null,
            "visibility": null,
            "width": null
          }
        },
        "14c31c03ee86430889a47b559ef14ab5": {
          "model_module": "@jupyter-widgets/controls",
          "model_name": "DescriptionStyleModel",
          "model_module_version": "1.5.0",
          "state": {
            "_model_module": "@jupyter-widgets/controls",
            "_model_module_version": "1.5.0",
            "_model_name": "DescriptionStyleModel",
            "_view_count": null,
            "_view_module": "@jupyter-widgets/base",
            "_view_module_version": "1.2.0",
            "_view_name": "StyleView",
            "description_width": ""
          }
        },
        "50de5f034cd348c0ad80069995e7b03d": {
          "model_module": "@jupyter-widgets/base",
          "model_name": "LayoutModel",
          "model_module_version": "1.2.0",
          "state": {
            "_model_module": "@jupyter-widgets/base",
            "_model_module_version": "1.2.0",
            "_model_name": "LayoutModel",
            "_view_count": null,
            "_view_module": "@jupyter-widgets/base",
            "_view_module_version": "1.2.0",
            "_view_name": "LayoutView",
            "align_content": null,
            "align_items": null,
            "align_self": null,
            "border": null,
            "bottom": null,
            "display": null,
            "flex": null,
            "flex_flow": null,
            "grid_area": null,
            "grid_auto_columns": null,
            "grid_auto_flow": null,
            "grid_auto_rows": null,
            "grid_column": null,
            "grid_gap": null,
            "grid_row": null,
            "grid_template_areas": null,
            "grid_template_columns": null,
            "grid_template_rows": null,
            "height": null,
            "justify_content": null,
            "justify_items": null,
            "left": null,
            "margin": null,
            "max_height": null,
            "max_width": null,
            "min_height": null,
            "min_width": null,
            "object_fit": null,
            "object_position": null,
            "order": null,
            "overflow": null,
            "overflow_x": null,
            "overflow_y": null,
            "padding": null,
            "right": null,
            "top": null,
            "visibility": null,
            "width": null
          }
        },
        "b6778ade9b664404a65e15acb00d1561": {
          "model_module": "@jupyter-widgets/controls",
          "model_name": "ProgressStyleModel",
          "model_module_version": "1.5.0",
          "state": {
            "_model_module": "@jupyter-widgets/controls",
            "_model_module_version": "1.5.0",
            "_model_name": "ProgressStyleModel",
            "_view_count": null,
            "_view_module": "@jupyter-widgets/base",
            "_view_module_version": "1.2.0",
            "_view_name": "StyleView",
            "bar_color": null,
            "description_width": ""
          }
        },
        "1715c91a007b4a59a62273e18a9895cb": {
          "model_module": "@jupyter-widgets/base",
          "model_name": "LayoutModel",
          "model_module_version": "1.2.0",
          "state": {
            "_model_module": "@jupyter-widgets/base",
            "_model_module_version": "1.2.0",
            "_model_name": "LayoutModel",
            "_view_count": null,
            "_view_module": "@jupyter-widgets/base",
            "_view_module_version": "1.2.0",
            "_view_name": "LayoutView",
            "align_content": null,
            "align_items": null,
            "align_self": null,
            "border": null,
            "bottom": null,
            "display": null,
            "flex": null,
            "flex_flow": null,
            "grid_area": null,
            "grid_auto_columns": null,
            "grid_auto_flow": null,
            "grid_auto_rows": null,
            "grid_column": null,
            "grid_gap": null,
            "grid_row": null,
            "grid_template_areas": null,
            "grid_template_columns": null,
            "grid_template_rows": null,
            "height": null,
            "justify_content": null,
            "justify_items": null,
            "left": null,
            "margin": null,
            "max_height": null,
            "max_width": null,
            "min_height": null,
            "min_width": null,
            "object_fit": null,
            "object_position": null,
            "order": null,
            "overflow": null,
            "overflow_x": null,
            "overflow_y": null,
            "padding": null,
            "right": null,
            "top": null,
            "visibility": null,
            "width": null
          }
        },
        "041e6679a62a4ebd83503763e2b70cda": {
          "model_module": "@jupyter-widgets/controls",
          "model_name": "DescriptionStyleModel",
          "model_module_version": "1.5.0",
          "state": {
            "_model_module": "@jupyter-widgets/controls",
            "_model_module_version": "1.5.0",
            "_model_name": "DescriptionStyleModel",
            "_view_count": null,
            "_view_module": "@jupyter-widgets/base",
            "_view_module_version": "1.2.0",
            "_view_name": "StyleView",
            "description_width": ""
          }
        },
        "256ba1ae7ac34339bfaaad16f6fede01": {
          "model_module": "@jupyter-widgets/controls",
          "model_name": "HBoxModel",
          "model_module_version": "1.5.0",
          "state": {
            "_dom_classes": [],
            "_model_module": "@jupyter-widgets/controls",
            "_model_module_version": "1.5.0",
            "_model_name": "HBoxModel",
            "_view_count": null,
            "_view_module": "@jupyter-widgets/controls",
            "_view_module_version": "1.5.0",
            "_view_name": "HBoxView",
            "box_style": "",
            "children": [
              "IPY_MODEL_c89fc44e28494cfe8699f46613acc869",
              "IPY_MODEL_824c88cd7324459a9ffa9ee618c02a4f",
              "IPY_MODEL_6bc28d2cd639483aa4312f9897b4b6e6"
            ],
            "layout": "IPY_MODEL_d92fedb2b9c64bc0bd8dc1c046dbfdf9"
          }
        },
        "c89fc44e28494cfe8699f46613acc869": {
          "model_module": "@jupyter-widgets/controls",
          "model_name": "HTMLModel",
          "model_module_version": "1.5.0",
          "state": {
            "_dom_classes": [],
            "_model_module": "@jupyter-widgets/controls",
            "_model_module_version": "1.5.0",
            "_model_name": "HTMLModel",
            "_view_count": null,
            "_view_module": "@jupyter-widgets/controls",
            "_view_module_version": "1.5.0",
            "_view_name": "HTMLView",
            "description": "",
            "description_tooltip": null,
            "layout": "IPY_MODEL_eec75690a7784fd5b051c66d5d35d743",
            "placeholder": "​",
            "style": "IPY_MODEL_d82f379cfa0f4bc697ff016cb0e6f402",
            "value": "generation_config.json: 100%"
          }
        },
        "824c88cd7324459a9ffa9ee618c02a4f": {
          "model_module": "@jupyter-widgets/controls",
          "model_name": "FloatProgressModel",
          "model_module_version": "1.5.0",
          "state": {
            "_dom_classes": [],
            "_model_module": "@jupyter-widgets/controls",
            "_model_module_version": "1.5.0",
            "_model_name": "FloatProgressModel",
            "_view_count": null,
            "_view_module": "@jupyter-widgets/controls",
            "_view_module_version": "1.5.0",
            "_view_name": "ProgressView",
            "bar_style": "success",
            "description": "",
            "description_tooltip": null,
            "layout": "IPY_MODEL_dfe1b67398c942d882e839c9b0414939",
            "max": 111,
            "min": 0,
            "orientation": "horizontal",
            "style": "IPY_MODEL_341a9dacc1b24d44b26032536f135f01",
            "value": 111
          }
        },
        "6bc28d2cd639483aa4312f9897b4b6e6": {
          "model_module": "@jupyter-widgets/controls",
          "model_name": "HTMLModel",
          "model_module_version": "1.5.0",
          "state": {
            "_dom_classes": [],
            "_model_module": "@jupyter-widgets/controls",
            "_model_module_version": "1.5.0",
            "_model_name": "HTMLModel",
            "_view_count": null,
            "_view_module": "@jupyter-widgets/controls",
            "_view_module_version": "1.5.0",
            "_view_name": "HTMLView",
            "description": "",
            "description_tooltip": null,
            "layout": "IPY_MODEL_2a7212440053442da60574ef2acb59f4",
            "placeholder": "​",
            "style": "IPY_MODEL_67743ab55b284187b1cec37a905f645d",
            "value": " 111/111 [00:00&lt;00:00, 6.46kB/s]"
          }
        },
        "d92fedb2b9c64bc0bd8dc1c046dbfdf9": {
          "model_module": "@jupyter-widgets/base",
          "model_name": "LayoutModel",
          "model_module_version": "1.2.0",
          "state": {
            "_model_module": "@jupyter-widgets/base",
            "_model_module_version": "1.2.0",
            "_model_name": "LayoutModel",
            "_view_count": null,
            "_view_module": "@jupyter-widgets/base",
            "_view_module_version": "1.2.0",
            "_view_name": "LayoutView",
            "align_content": null,
            "align_items": null,
            "align_self": null,
            "border": null,
            "bottom": null,
            "display": null,
            "flex": null,
            "flex_flow": null,
            "grid_area": null,
            "grid_auto_columns": null,
            "grid_auto_flow": null,
            "grid_auto_rows": null,
            "grid_column": null,
            "grid_gap": null,
            "grid_row": null,
            "grid_template_areas": null,
            "grid_template_columns": null,
            "grid_template_rows": null,
            "height": null,
            "justify_content": null,
            "justify_items": null,
            "left": null,
            "margin": null,
            "max_height": null,
            "max_width": null,
            "min_height": null,
            "min_width": null,
            "object_fit": null,
            "object_position": null,
            "order": null,
            "overflow": null,
            "overflow_x": null,
            "overflow_y": null,
            "padding": null,
            "right": null,
            "top": null,
            "visibility": null,
            "width": null
          }
        },
        "eec75690a7784fd5b051c66d5d35d743": {
          "model_module": "@jupyter-widgets/base",
          "model_name": "LayoutModel",
          "model_module_version": "1.2.0",
          "state": {
            "_model_module": "@jupyter-widgets/base",
            "_model_module_version": "1.2.0",
            "_model_name": "LayoutModel",
            "_view_count": null,
            "_view_module": "@jupyter-widgets/base",
            "_view_module_version": "1.2.0",
            "_view_name": "LayoutView",
            "align_content": null,
            "align_items": null,
            "align_self": null,
            "border": null,
            "bottom": null,
            "display": null,
            "flex": null,
            "flex_flow": null,
            "grid_area": null,
            "grid_auto_columns": null,
            "grid_auto_flow": null,
            "grid_auto_rows": null,
            "grid_column": null,
            "grid_gap": null,
            "grid_row": null,
            "grid_template_areas": null,
            "grid_template_columns": null,
            "grid_template_rows": null,
            "height": null,
            "justify_content": null,
            "justify_items": null,
            "left": null,
            "margin": null,
            "max_height": null,
            "max_width": null,
            "min_height": null,
            "min_width": null,
            "object_fit": null,
            "object_position": null,
            "order": null,
            "overflow": null,
            "overflow_x": null,
            "overflow_y": null,
            "padding": null,
            "right": null,
            "top": null,
            "visibility": null,
            "width": null
          }
        },
        "d82f379cfa0f4bc697ff016cb0e6f402": {
          "model_module": "@jupyter-widgets/controls",
          "model_name": "DescriptionStyleModel",
          "model_module_version": "1.5.0",
          "state": {
            "_model_module": "@jupyter-widgets/controls",
            "_model_module_version": "1.5.0",
            "_model_name": "DescriptionStyleModel",
            "_view_count": null,
            "_view_module": "@jupyter-widgets/base",
            "_view_module_version": "1.2.0",
            "_view_name": "StyleView",
            "description_width": ""
          }
        },
        "dfe1b67398c942d882e839c9b0414939": {
          "model_module": "@jupyter-widgets/base",
          "model_name": "LayoutModel",
          "model_module_version": "1.2.0",
          "state": {
            "_model_module": "@jupyter-widgets/base",
            "_model_module_version": "1.2.0",
            "_model_name": "LayoutModel",
            "_view_count": null,
            "_view_module": "@jupyter-widgets/base",
            "_view_module_version": "1.2.0",
            "_view_name": "LayoutView",
            "align_content": null,
            "align_items": null,
            "align_self": null,
            "border": null,
            "bottom": null,
            "display": null,
            "flex": null,
            "flex_flow": null,
            "grid_area": null,
            "grid_auto_columns": null,
            "grid_auto_flow": null,
            "grid_auto_rows": null,
            "grid_column": null,
            "grid_gap": null,
            "grid_row": null,
            "grid_template_areas": null,
            "grid_template_columns": null,
            "grid_template_rows": null,
            "height": null,
            "justify_content": null,
            "justify_items": null,
            "left": null,
            "margin": null,
            "max_height": null,
            "max_width": null,
            "min_height": null,
            "min_width": null,
            "object_fit": null,
            "object_position": null,
            "order": null,
            "overflow": null,
            "overflow_x": null,
            "overflow_y": null,
            "padding": null,
            "right": null,
            "top": null,
            "visibility": null,
            "width": null
          }
        },
        "341a9dacc1b24d44b26032536f135f01": {
          "model_module": "@jupyter-widgets/controls",
          "model_name": "ProgressStyleModel",
          "model_module_version": "1.5.0",
          "state": {
            "_model_module": "@jupyter-widgets/controls",
            "_model_module_version": "1.5.0",
            "_model_name": "ProgressStyleModel",
            "_view_count": null,
            "_view_module": "@jupyter-widgets/base",
            "_view_module_version": "1.2.0",
            "_view_name": "StyleView",
            "bar_color": null,
            "description_width": ""
          }
        },
        "2a7212440053442da60574ef2acb59f4": {
          "model_module": "@jupyter-widgets/base",
          "model_name": "LayoutModel",
          "model_module_version": "1.2.0",
          "state": {
            "_model_module": "@jupyter-widgets/base",
            "_model_module_version": "1.2.0",
            "_model_name": "LayoutModel",
            "_view_count": null,
            "_view_module": "@jupyter-widgets/base",
            "_view_module_version": "1.2.0",
            "_view_name": "LayoutView",
            "align_content": null,
            "align_items": null,
            "align_self": null,
            "border": null,
            "bottom": null,
            "display": null,
            "flex": null,
            "flex_flow": null,
            "grid_area": null,
            "grid_auto_columns": null,
            "grid_auto_flow": null,
            "grid_auto_rows": null,
            "grid_column": null,
            "grid_gap": null,
            "grid_row": null,
            "grid_template_areas": null,
            "grid_template_columns": null,
            "grid_template_rows": null,
            "height": null,
            "justify_content": null,
            "justify_items": null,
            "left": null,
            "margin": null,
            "max_height": null,
            "max_width": null,
            "min_height": null,
            "min_width": null,
            "object_fit": null,
            "object_position": null,
            "order": null,
            "overflow": null,
            "overflow_x": null,
            "overflow_y": null,
            "padding": null,
            "right": null,
            "top": null,
            "visibility": null,
            "width": null
          }
        },
        "67743ab55b284187b1cec37a905f645d": {
          "model_module": "@jupyter-widgets/controls",
          "model_name": "DescriptionStyleModel",
          "model_module_version": "1.5.0",
          "state": {
            "_model_module": "@jupyter-widgets/controls",
            "_model_module_version": "1.5.0",
            "_model_name": "DescriptionStyleModel",
            "_view_count": null,
            "_view_module": "@jupyter-widgets/base",
            "_view_module_version": "1.2.0",
            "_view_name": "StyleView",
            "description_width": ""
          }
        }
      }
    }
  },
  "nbformat": 4,
  "nbformat_minor": 5
}